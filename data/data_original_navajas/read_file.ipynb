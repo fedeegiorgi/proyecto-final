{
 "cells": [
  {
   "cell_type": "code",
   "execution_count": 88,
   "metadata": {},
   "outputs": [
    {
     "name": "stdout",
     "output_type": "stream",
     "text": [
      "dict_keys(['__header__', '__version__', '__globals__', 'c_p1', 'c_p3', 'co_gr_p1', 'co_gr_p3', 'corre', 'group_p1', 'group_p2', 'group_p3', 'ncorre', 'ngroup_p1', 'ngroup_p2', 'ngroup_p3', 'r_p1', 'r_p2', 'r_p3'])\n"
     ]
    }
   ],
   "source": [
    "from scipy.io import loadmat\n",
    "import numpy as np\n",
    "\n",
    "# Load the .mat file\n",
    "data = loadmat('data_temp.mat')\n",
    "\n",
    "# Explore the structure of the file\n",
    "print(data.keys())"
   ]
  },
  {
   "cell_type": "code",
   "execution_count": 89,
   "metadata": {},
   "outputs": [
    {
     "data": {
      "text/plain": [
       "b'MATLAB 5.0 MAT-file, Platform: PCWIN64, Created on: Thu Jun 15 14:25:36 2017'"
      ]
     },
     "execution_count": 89,
     "metadata": {},
     "output_type": "execute_result"
    }
   ],
   "source": [
    "data['__header__']"
   ]
  },
  {
   "cell_type": "code",
   "execution_count": 90,
   "metadata": {},
   "outputs": [
    {
     "data": {
      "text/plain": [
       "'1.0'"
      ]
     },
     "execution_count": 90,
     "metadata": {},
     "output_type": "execute_result"
    }
   ],
   "source": [
    "data['__version__']"
   ]
  },
  {
   "cell_type": "code",
   "execution_count": 91,
   "metadata": {},
   "outputs": [
    {
     "data": {
      "text/plain": [
       "[]"
      ]
     },
     "execution_count": 91,
     "metadata": {},
     "output_type": "execute_result"
    }
   ],
   "source": [
    "data['__globals__']"
   ]
  },
  {
   "cell_type": "code",
   "execution_count": 92,
   "metadata": {},
   "outputs": [
    {
     "name": "stdout",
     "output_type": "stream",
     "text": [
      "c_p1 shape: (5180, 8)\n",
      "c_p3 shape: (5180, 8)\n",
      "co_gr_p1 shape: (5, 4, 280)\n",
      "co_gr_p3 shape: (5, 4, 280)\n",
      "corre shape: (1, 8)\n",
      "group_p1 shape: (5, 4, 280)\n",
      "group_p2 shape: (4, 280)\n",
      "group_p3 shape: (5, 4, 280)\n",
      "ncorre shape: (1, 8)\n",
      "ngroup_p1 shape: (5, 4, 280)\n",
      "ngroup_p2 shape: (4, 280)\n",
      "ngroup_p3 shape: (5, 4, 280)\n",
      "r_p1 shape: (5180, 8)\n",
      "r_p2 shape: (946, 4)\n",
      "r_p3 shape: (5180, 8)\n"
     ]
    }
   ],
   "source": [
    "# Access and print each dataset\n",
    "c_p1 = data['c_p1']\n",
    "c_p3 = data['c_p3']\n",
    "co_gr_p1 = data['co_gr_p1']\n",
    "co_gr_p3 = data['co_gr_p3']\n",
    "corre = data['corre']\n",
    "group_p1 = data['group_p1']\n",
    "group_p2 = data['group_p2']\n",
    "group_p3 = data['group_p3']\n",
    "ncorre = data['ncorre']\n",
    "ngroup_p1 = data['ngroup_p1']\n",
    "ngroup_p2 = data['ngroup_p2']\n",
    "ngroup_p3 = data['ngroup_p3']\n",
    "r_p1 = data['r_p1']\n",
    "r_p2 = data['r_p2']\n",
    "r_p3 = data['r_p3']\n",
    "\n",
    "# Example: Print the shape of each dataset\n",
    "print(\"c_p1 shape:\", c_p1.shape)\n",
    "print(\"c_p3 shape:\", c_p3.shape)\n",
    "print(\"co_gr_p1 shape:\", co_gr_p1.shape)\n",
    "print(\"co_gr_p3 shape:\", co_gr_p3.shape)\n",
    "print(\"corre shape:\", corre.shape)\n",
    "print(\"group_p1 shape:\", group_p1.shape)\n",
    "print(\"group_p2 shape:\", group_p2.shape)\n",
    "print(\"group_p3 shape:\", group_p3.shape)\n",
    "print(\"ncorre shape:\", ncorre.shape)\n",
    "print(\"ngroup_p1 shape:\", ngroup_p1.shape)\n",
    "print(\"ngroup_p2 shape:\", ngroup_p2.shape)\n",
    "print(\"ngroup_p3 shape:\", ngroup_p3.shape)\n",
    "print(\"r_p1 shape:\", r_p1.shape)\n",
    "print(\"r_p2 shape:\", r_p2.shape)\n",
    "print(\"r_p3 shape:\", r_p3.shape)"
   ]
  },
  {
   "cell_type": "markdown",
   "metadata": {},
   "source": [
    "### Chequeo de non-parametric normalization"
   ]
  },
  {
   "cell_type": "code",
   "execution_count": 93,
   "metadata": {},
   "outputs": [
    {
     "data": {
      "text/plain": [
       "153.0"
      ]
     },
     "execution_count": 93,
     "metadata": {},
     "output_type": "execute_result"
    }
   ],
   "source": [
    "group_p1[0, 0, 0]"
   ]
  },
  {
   "cell_type": "code",
   "execution_count": 94,
   "metadata": {},
   "outputs": [
    {
     "data": {
      "text/plain": [
       "1.8918918918918919"
      ]
     },
     "execution_count": 94,
     "metadata": {},
     "output_type": "execute_result"
    }
   ],
   "source": [
    "ngroup_p1[0, 0, 0]"
   ]
  },
  {
   "cell_type": "markdown",
   "metadata": {},
   "source": [
    "Entonces usando los datos de la `Supplementary Table 1`:\n",
    "- $n_i = \\frac{x_i - median(x)}{median(|x-median(X)|)}$\n",
    "- $x_i=153$\n",
    "- $median(x)=81$\n",
    "- $median(|x-median(X)|)=38$\n",
    "\n",
    "$\\therefore \\frac{153 - 81}{38} \\approx 1.8947$"
   ]
  },
  {
   "cell_type": "markdown",
   "metadata": {},
   "source": [
    "### Data de interés\n",
    " \n",
    "- **`group_p1`(5, 4, 280)**: respuestas en el stage i1 (individual answers). `group_p1[i, p, g]` es la respuesta del integrante `i` a la pregunta `p` perteneciente al grupo `g`.\n",
    "  \n",
    "- **`group_p2`(4, 280)**: respuestas en el stage c (collective answers). `group_p2[p, g]` es la respuesta a la pregunta `p` en el grupo `g`.\n",
    "\n",
    "- **`group_p3`(5, 4, 280)**: respuestas en el stage i2 (individual revised answers). `group_p3[i, p, g]` es la respuesta revisada del integrante `i` a la pregunta `p` perteneciente al  grupo `g`.\n",
    "\n",
    "- **`co_gr_p1`(5, 4, 280)**: nivel de confianza (del 1 al 10) de los 1400 participanes en el stage i1 (individual answers). `co_gr_p1[i, p, g]` es el nivel de confianza del integrante `i` para la respuesta a la pregunta `p` en el grupo `g`.\n",
    "  \n",
    "- **`co_gr_p3`(5, 4, 280)**: nivel de confianza (del 1 al 10) de los 1400 participanes en el stage i3 (individual revised answers). `co_gr_p3[i, p, g]` es el nivel de confianza del integrante `i` para la respuesta a la pregunta `p` en el grupo `g`.\n",
    "\n",
    "- **`ngroup_p1`(5, 4, 280)**: datos normalizados usando el método `Non-parametric normalization` explicado en la sección *Methods* del paper Navajas (2018).\n",
    "  \n",
    "- **`ngroup_p2`(4, 280)**: datos normalizados usando el método `Non-parametric normalization` explicado en la sección *Methods* del paper Navajas (2018).\n",
    "\n",
    "- **`ngroup_p3`(5, 4, 280)**: datos normalizados usando el método `Non-parametric normalization` explicado en la sección *Methods* del paper Navajas (2018)."
   ]
  },
  {
   "cell_type": "markdown",
   "metadata": {},
   "source": [
    "### Chequeo datos NO normalizados"
   ]
  },
  {
   "cell_type": "code",
   "execution_count": 114,
   "metadata": {},
   "outputs": [],
   "source": [
    "transposed_arr = group_p1.transpose(1, 0, 2) # para que qude (4, 5, 280)\n",
    "group_p1_flattened = transposed_arr.reshape(4, -1) # para que quede (4, 1400)"
   ]
  },
  {
   "cell_type": "code",
   "execution_count": 115,
   "metadata": {},
   "outputs": [
    {
     "name": "stdout",
     "output_type": "stream",
     "text": [
      "153.0\n",
      "15.0\n",
      "340.0\n",
      "100000.0\n"
     ]
    }
   ],
   "source": [
    "# respuesta del individuo 0 en original\n",
    "print(group_p1[0, 0, 0])\n",
    "print(group_p1[0, 1, 0])\n",
    "print(group_p1[0, 2, 0])\n",
    "print(group_p1[0, 3, 0])"
   ]
  },
  {
   "cell_type": "code",
   "execution_count": 116,
   "metadata": {},
   "outputs": [
    {
     "data": {
      "text/plain": [
       "array([1.53e+02, 1.50e+01, 3.40e+02, 1.00e+05])"
      ]
     },
     "execution_count": 116,
     "metadata": {},
     "output_type": "execute_result"
    }
   ],
   "source": [
    "# respuesta del individuo 0 en reshaped\n",
    "group_p1_flattened[:, 0]"
   ]
  },
  {
   "cell_type": "code",
   "execution_count": 117,
   "metadata": {},
   "outputs": [
    {
     "name": "stdout",
     "output_type": "stream",
     "text": [
      "nans por columna en group_p1\n",
      "[12 21 41 68]\n"
     ]
    }
   ],
   "source": [
    "group_p1_flattened = group_p1_flattened.T\n",
    "nan_mask = np.isnan(group_p1_flattened)\n",
    "\n",
    "# NaNs x columna\n",
    "nan_count_per_column = np.sum(nan_mask, axis=0)\n",
    "print(\"nans por columna en group_p1\")\n",
    "print(nan_count_per_column)"
   ]
  },
  {
   "cell_type": "markdown",
   "metadata": {},
   "source": [
    "### Chequeo datos normalizados"
   ]
  },
  {
   "cell_type": "code",
   "execution_count": 107,
   "metadata": {},
   "outputs": [],
   "source": [
    "transposed_arr = ngroup_p1.transpose(1, 0, 2) # para que qude (4, 5, 280)\n",
    "ngroup_p1_flattened = transposed_arr.reshape(4, -1) # para que quede (4, 1400)"
   ]
  },
  {
   "cell_type": "code",
   "execution_count": 108,
   "metadata": {},
   "outputs": [
    {
     "name": "stdout",
     "output_type": "stream",
     "text": [
      "1.8918918918918919\n",
      "-0.6666666666666666\n",
      "-0.24\n",
      "nan\n"
     ]
    }
   ],
   "source": [
    "# respuesta del individuo 0 en original\n",
    "print(ngroup_p1[0, 0, 0])\n",
    "print(ngroup_p1[0, 1, 0])\n",
    "print(ngroup_p1[0, 2, 0])\n",
    "print(ngroup_p1[0, 3, 0])"
   ]
  },
  {
   "cell_type": "code",
   "execution_count": 109,
   "metadata": {},
   "outputs": [
    {
     "data": {
      "text/plain": [
       "array([ 1.89189189, -0.66666667, -0.24      ,         nan])"
      ]
     },
     "execution_count": 109,
     "metadata": {},
     "output_type": "execute_result"
    }
   ],
   "source": [
    "# respuesta del individuo 0 en reshaped\n",
    "ngroup_p1_flattened[:, 0]"
   ]
  },
  {
   "cell_type": "code",
   "execution_count": 110,
   "metadata": {},
   "outputs": [
    {
     "name": "stdout",
     "output_type": "stream",
     "text": [
      "nans por columna en ngroup_p1\n",
      "[ 12  21  64 272]\n"
     ]
    }
   ],
   "source": [
    "ngroup_p1_flattened = ngroup_p1_flattened.T\n",
    "nan_mask = np.isnan(ngroup_p1_flattened)\n",
    "\n",
    "# NaNs x columna\n",
    "nan_count_per_column = np.sum(nan_mask, axis=0)\n",
    "print(\"nans por columna en ngroup_p1\")\n",
    "print(nan_count_per_column)"
   ]
  }
 ],
 "metadata": {
  "kernelspec": {
   "display_name": "metodos",
   "language": "python",
   "name": "python3"
  },
  "language_info": {
   "codemirror_mode": {
    "name": "ipython",
    "version": 3
   },
   "file_extension": ".py",
   "mimetype": "text/x-python",
   "name": "python",
   "nbconvert_exporter": "python",
   "pygments_lexer": "ipython3",
   "version": "3.10.9"
  }
 },
 "nbformat": 4,
 "nbformat_minor": 2
}
