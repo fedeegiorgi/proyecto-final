{
 "cells": [
  {
   "cell_type": "markdown",
   "metadata": {},
   "source": [
    "# Modelo IQR"
   ]
  },
  {
   "cell_type": "code",
   "execution_count": null,
   "metadata": {},
   "outputs": [],
   "source": [
    "import numpy as np\n",
    "import pandas as pd"
   ]
  },
  {
   "cell_type": "markdown",
   "metadata": {},
   "source": [
    "## Dataset Wind"
   ]
  },
  {
   "cell_type": "code",
   "execution_count": null,
   "metadata": {},
   "outputs": [],
   "source": [
    "# Replace 'your_file.npy' with the path to your .npy file\n",
    "file_path = '../resultados_grid_search/Wind/Wind_OOB.npy'\n",
    "data_wind = np.load(file_path)\n",
    "\n",
    "# Define column names\n",
    "columns = ['n_estimators', 'group_size', 'max_depth', 'MSE']\n",
    "\n",
    "# Create a DataFrame\n",
    "df_wind = pd.DataFrame(data_wind, columns=columns)\n",
    "\n",
    "# Display the DataFrame\n",
    "df_wind"
   ]
  },
  {
   "cell_type": "code",
   "execution_count": null,
   "metadata": {},
   "outputs": [],
   "source": [
    "sorted_df_wind = df_wind.sort_values(by='MSE', ascending=True)\n",
    "sorted_df_wind['Rank'] = range(1, len(sorted_df_wind) + 1)\n",
    "\n",
    "top_50_wind = sorted_df_wind[:50]\n",
    "top_50_wind"
   ]
  },
  {
   "cell_type": "markdown",
   "metadata": {},
   "source": [
    "## Dataset Carbon Emission"
   ]
  },
  {
   "cell_type": "code",
   "execution_count": null,
   "metadata": {},
   "outputs": [],
   "source": [
    "file_path = '../resultados_grid_search/Carbon_Emission/Carbon_Emission_OOB.npy'\n",
    "data_carbon = np.load(file_path)\n",
    "\n",
    "# Define column names\n",
    "columns = ['n_estimators', 'group_size', 'max_depth', 'MSE']\n",
    "\n",
    "# Create a DataFrame\n",
    "df_carbon = pd.DataFrame(data_carbon, columns=columns)\n",
    "\n",
    "# Display the DataFrame\n",
    "df_carbon"
   ]
  },
  {
   "cell_type": "code",
   "execution_count": null,
   "metadata": {},
   "outputs": [],
   "source": [
    "sorted_df_carbon = df_carbon.sort_values(by='MSE', ascending=True)\n",
    "sorted_df_carbon['Rank'] = range(1, len(sorted_df_carbon) + 1)\n",
    "\n",
    "top_50_carbon = sorted_df_carbon[:50]\n",
    "top_50_carbon"
   ]
  },
  {
   "cell_type": "markdown",
   "metadata": {},
   "source": [
    "## House 8L"
   ]
  },
  {
   "cell_type": "code",
   "execution_count": null,
   "metadata": {},
   "outputs": [],
   "source": [
    "file_path = '../resultados_grid_search/House_8L/House_8L_OOB.npy'\n",
    "data_house_8L = np.load(file_path)\n",
    "\n",
    "# Define column names\n",
    "columns = ['n_estimators', 'group_size', 'max_depth', 'MSE']\n",
    "\n",
    "# Create a DataFrame\n",
    "df_house_8L = pd.DataFrame(data_house_8L, columns=columns)\n",
    "\n",
    "# Display the DataFrame\n",
    "df_house_8L"
   ]
  },
  {
   "cell_type": "code",
   "execution_count": null,
   "metadata": {},
   "outputs": [],
   "source": [
    "sorted_df_house_8L = df_house_8L.sort_values(by='MSE', ascending=True)\n",
    "sorted_df_house_8L['Rank'] = range(1, len(sorted_df_house_8L) + 1)\n",
    "\n",
    "top_50_house_8L = sorted_df_house_8L[:50]\n",
    "top_50_house_8L"
   ]
  },
  {
   "cell_type": "code",
   "execution_count": null,
   "metadata": {},
   "outputs": [],
   "source": [
    "# Drop the 'MSE' column from each top_50 DataFrame\n",
    "top_50_wind_dropped = top_50_wind.drop(columns=['MSE'])\n",
    "top_50_carbon_dropped = top_50_carbon.drop(columns=['MSE'])\n",
    "top_50_house_8L_dropped = top_50_house_8L.drop(columns=['MSE'])\n",
    "\n",
    "# Concatenate the DataFrames\n",
    "concatenated_df = pd.concat([top_50_wind_dropped, top_50_carbon_dropped, top_50_house_8L_dropped], ignore_index=True)\n",
    "\n",
    "# Drop repeated rows\n",
    "concatenated_df = concatenated_df.drop_duplicates()\n",
    "\n",
    "# Save the concatenated DataFrame to a CSV file\n",
    "concatenated_df.to_csv('csvs/OOB_Top_150.csv', index=False)"
   ]
  }
 ],
 "metadata": {
  "kernelspec": {
   "display_name": "td6",
   "language": "python",
   "name": "python3"
  },
  "language_info": {
   "codemirror_mode": {
    "name": "ipython",
    "version": 3
   },
   "file_extension": ".py",
   "mimetype": "text/x-python",
   "name": "python",
   "nbconvert_exporter": "python",
   "pygments_lexer": "ipython3",
   "version": "3.10.12"
  }
 },
 "nbformat": 4,
 "nbformat_minor": 2
}
