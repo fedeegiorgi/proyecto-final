{
 "cells": [
  {
   "cell_type": "code",
   "execution_count": 1,
   "metadata": {},
   "outputs": [],
   "source": [
    "import numpy as np"
   ]
  },
  {
   "cell_type": "code",
   "execution_count": 14,
   "metadata": {},
   "outputs": [],
   "source": [
    "# Predicciones de los árboles (3 árboles, 1 muestra) incluyendo un outlier\n",
    "predictions = np.array([10, 10, 10, 120])\n",
    "\n",
    "# Pesos iniciales asociados a los árboles (estos podrían provenir del OOB MSE, por ejemplo)\n",
    "weights = np.array([0.3, 0.3, 0.2, 0.2])"
   ]
  },
  {
   "cell_type": "code",
   "execution_count": 15,
   "metadata": {},
   "outputs": [
    {
     "name": "stdout",
     "output_type": "stream",
     "text": [
      "Q1: 10.0, Q3: 37.5, IQR: 27.5\n",
      "Lower Bound: -31.25, Upper Bound: 78.75\n"
     ]
    }
   ],
   "source": [
    "# Vamos a simular el cálculo del IQR para descartar outliers\n",
    "Q1 = np.percentile(predictions, 25)  # Primer cuartil\n",
    "Q3 = np.percentile(predictions, 75)  # Tercer cuartil\n",
    "IQR = Q3 - Q1  # Rango intercuartílico\n",
    "\n",
    "# Limites para descartar valores fuera del rango IQR\n",
    "lower_bound = Q1 - 1.5 * IQR\n",
    "upper_bound = Q3 + 1.5 * IQR\n",
    "\n",
    "# Mostrar los límites\n",
    "print(f\"Q1: {Q1}, Q3: {Q3}, IQR: {IQR}\")\n",
    "print(f\"Lower Bound: {lower_bound}, Upper Bound: {upper_bound}\")"
   ]
  },
  {
   "cell_type": "code",
   "execution_count": 16,
   "metadata": {},
   "outputs": [
    {
     "name": "stdout",
     "output_type": "stream",
     "text": [
      "Valid Predictions: [10. 10. 10. nan]\n",
      "Valid Weights: [0.3 0.3 0.2 nan]\n"
     ]
    }
   ],
   "source": [
    "# Filtrar las predicciones fuera del rango IQR\n",
    "valid_predictions = np.where((predictions >= lower_bound) & (predictions <= upper_bound), predictions, np.nan)\n",
    "valid_weights = np.where(np.isnan(valid_predictions), np.nan, weights)  # Asignar NaN a los pesos de predicciones inválidas\n",
    "\n",
    "# Mostrar predicciones válidas y pesos correspondientes\n",
    "print(f\"Valid Predictions: {valid_predictions}\")\n",
    "print(f\"Valid Weights: {valid_weights}\")"
   ]
  },
  {
   "cell_type": "code",
   "execution_count": 17,
   "metadata": {},
   "outputs": [
    {
     "name": "stdout",
     "output_type": "stream",
     "text": [
      "Normalized Weights: [0.375 0.375 0.25  0.   ]\n",
      "Final Prediction: 10.0\n"
     ]
    }
   ],
   "source": [
    "# Calcular la suma de los pesos válidos (evitar NaN con nansum)\n",
    "weight_sums = np.nansum(valid_weights)\n",
    "\n",
    "# Normalizar los pesos válidos\n",
    "normalized_weights = np.nan_to_num(valid_weights / weight_sums)\n",
    "\n",
    "# Mostrar los pesos normalizados\n",
    "print(f\"Normalized Weights: {normalized_weights}\")\n",
    "\n",
    "# Calcular la predicción ponderada\n",
    "final_prediction = np.nansum(valid_predictions * normalized_weights)\n",
    "\n",
    "# Mostrar la predicción final\n",
    "print(f\"Final Prediction: {final_prediction}\")\n"
   ]
  }
 ],
 "metadata": {
  "kernelspec": {
   "display_name": "td6",
   "language": "python",
   "name": "python3"
  },
  "language_info": {
   "codemirror_mode": {
    "name": "ipython",
    "version": 3
   },
   "file_extension": ".py",
   "mimetype": "text/x-python",
   "name": "python",
   "nbconvert_exporter": "python",
   "pygments_lexer": "ipython3",
   "version": "3.10.12"
  }
 },
 "nbformat": 4,
 "nbformat_minor": 2
}
