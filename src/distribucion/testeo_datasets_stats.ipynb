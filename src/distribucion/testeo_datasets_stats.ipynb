{
 "cells": [
  {
   "cell_type": "code",
   "execution_count": 81,
   "metadata": {},
   "outputs": [],
   "source": [
    "import numpy as np\n",
    "import pandas as pd\n",
    "import seaborn as sns\n",
    "import matplotlib.pyplot as plt\n",
    "from matplotlib.cm import get_cmap\n",
    "from sklearn.preprocessing import StandardScaler\n",
    "from sklearn.ensemble import RandomForestRegressor\n",
    "from sklearn.model_selection import train_test_split\n",
    "from sklearn.metrics import mean_squared_error\n",
    "from scipy.io import arff\n",
    "import os\n",
    "import scipy.stats as stats\n",
    "from scipy.stats import lognorm\n",
    "from scipy.stats import norm\n",
    "from joblib import Parallel, delayed\n",
    "from tqdm import tqdm\n",
    "\n",
    "SEED = 14208"
   ]
  },
  {
   "cell_type": "code",
   "execution_count": 82,
   "metadata": {},
   "outputs": [],
   "source": [
    "import warnings\n",
    "warnings.filterwarnings(\"ignore\")"
   ]
  },
  {
   "cell_type": "code",
   "execution_count": 83,
   "metadata": {},
   "outputs": [],
   "source": [
    "dataset_filepath = 'datasets/Height.csv'  # Aquí se incluirían las rutas a los datasets\n",
    "pred_col_name = 'childHeight'  # Columna a predecir\n",
    "alpha = 0.05  # Nivel de significancia"
   ]
  },
  {
   "cell_type": "code",
   "execution_count": 84,
   "metadata": {},
   "outputs": [],
   "source": [
    "def process_dataset(dataset_filepath: str, pred_col_name: str):\n",
    "    # Obtener la extension del archivo\n",
    "    _, file_extension = os.path.splitext(dataset_filepath)\n",
    "\n",
    "    # Cargar el dataset según la extensión\n",
    "    if file_extension == '.arff':\n",
    "        data = arff.loadarff(dataset_filepath)\n",
    "        df = pd.DataFrame(data[0])\n",
    "\n",
    "    elif file_extension == '.csv':\n",
    "        df = pd.read_csv(dataset_filepath)\n",
    "\n",
    "    else:\n",
    "        raise ValueError(\"Formato no soportado, `dataset_filepath` debe tener una de las siguientes extensiones: .csv, .arff\")\n",
    "\n",
    "    # Separar el dataset en Train y Validation\n",
    "    train_df, validation_df = train_test_split(df, test_size=0.2, random_state=SEED)\n",
    "    y_train, y_valid = train_df[pred_col_name], validation_df[pred_col_name]\n",
    "    X_train, X_valid = train_df.drop(pred_col_name, axis=1), validation_df.drop(pred_col_name, axis=1)\n",
    "\n",
    "    # Aplicar get_dummies para variables categóricas\n",
    "    X_train = pd.get_dummies(X_train)\n",
    "    X_valid = pd.get_dummies(X_valid)\n",
    "    X_train, X_valid = X_train.align(X_valid, join='left', axis=1, fill_value=0) \n",
    "\n",
    "    # Crear y entrenar el modelo de Random Forest\n",
    "    rf_model = RandomForestRegressor(random_state=SEED)\n",
    "    rf_model.fit(X_train, y_train)\n",
    "\n",
    "    # Obtener las predicciones de cada árbol en el bosque\n",
    "    tree_predictions = []\n",
    "    for tree in rf_model.estimators_:\n",
    "        tree_pred = tree.predict(X_valid)\n",
    "        tree_predictions.append(tree_pred)\n",
    "\n",
    "    tree_predictions = np.array(tree_predictions).T\n",
    "\n",
    "    # Evaluar el modelo\n",
    "    predictions = rf_model.predict(X_valid)\n",
    "    mse = mean_squared_error(y_valid, predictions)\n",
    "\n",
    "    return df, mse, predictions, tree_predictions"
   ]
  },
  {
   "cell_type": "code",
   "execution_count": 85,
   "metadata": {},
   "outputs": [],
   "source": [
    "def lognormal_KS_fit_check(tree_predictions, shift=1e-6, alpha=0.05, orig_data_stat=0.0722):\n",
    "    ks_results = []\n",
    "    tree_predictions += shift\n",
    "    for predictions in tree_predictions:\n",
    "        # Estimate parameters of the lognormal distribution\n",
    "        shape, loc, scale = stats.lognorm.fit(predictions, floc=0)\n",
    "        \n",
    "        # Perform the Kolmogorov-Smirnov test\n",
    "        ks_stat, p_value = stats.kstest(predictions, 'lognorm', args=(shape, loc, scale))\n",
    "        ks_results.append((ks_stat, p_value, shape, loc, scale))\n",
    "\n",
    "    # Proportion of trees that fit the lognormal distribution\n",
    "    ks_stats = [result[0] for result in ks_results]\n",
    "    eps = alpha * orig_data_stat\n",
    "    filtered_stats = [stat for stat in ks_stats if orig_data_stat-eps <= stat <= orig_data_stat+eps]\n",
    "    ks_fit_proportion = len(filtered_stats) / len(ks_stats)\n",
    "    \n",
    "    return ks_fit_proportion, ks_stats"
   ]
  },
  {
   "cell_type": "code",
   "execution_count": 86,
   "metadata": {},
   "outputs": [],
   "source": [
    "def gamma_KS_fit_check(tree_predictions, shift=1e-6, alpha=0.05, orig_data_stat=0.1323):\n",
    "    ks_results = []\n",
    "    tree_predictions += shift\n",
    "    for predictions in tree_predictions:\n",
    "        # Estimate parameters of the lognormal distribution\n",
    "        shape, loc, scale = stats.gamma.fit(predictions, floc=0)\n",
    "        \n",
    "        # Perform the Kolmogorov-Smirnov test\n",
    "        ks_stat, p_value = stats.kstest(predictions, 'gamma', args=(shape, loc, scale))\n",
    "        ks_results.append((ks_stat, p_value, shape, loc, scale))\n",
    "\n",
    "    # Proportion of trees that fit the lognormal distribution\n",
    "    ks_stats = [result[0] for result in ks_results]\n",
    "    eps = alpha * orig_data_stat\n",
    "    filtered_stats = [stat for stat in ks_stats if orig_data_stat-eps <= stat <= orig_data_stat+eps]\n",
    "    ks_fit_proportion = len(filtered_stats) / len(ks_stats)\n",
    "    \n",
    "    return ks_fit_proportion"
   ]
  },
  {
   "cell_type": "code",
   "execution_count": 87,
   "metadata": {},
   "outputs": [],
   "source": [
    "def transforme_normal_SW_fit_check(tree_predictions, shift=1e-6, alpha=0.05, orig_data_stat=0.9809):\n",
    "    sw_results = []\n",
    "    tree_predictions = np.log1p(tree_predictions)\n",
    "\n",
    "    for predictions in tree_predictions:\n",
    "        # Perform the Shapiro-Wilk test\n",
    "        shapiro_stat, shapiro_p_value = stats.shapiro(predictions)\n",
    "        sw_results.append((shapiro_stat, shapiro_p_value))\n",
    "\n",
    "    # Proportion of trees that fit the normal distribution\n",
    "    sw_stats = [result[0] for result in sw_results]\n",
    "    eps = alpha * orig_data_stat\n",
    "    filtered_stats = [stat for stat in sw_stats if orig_data_stat-eps <= stat <= orig_data_stat+eps]\n",
    "    sw_fit_proportion = len(filtered_stats) / len(sw_stats)\n",
    "    \n",
    "    return sw_fit_proportion"
   ]
  },
  {
   "cell_type": "code",
   "execution_count": 88,
   "metadata": {},
   "outputs": [
    {
     "name": "stdout",
     "output_type": "stream",
     "text": [
      "Proportion of trees that fit the lognormal distribution: 0.00000\n",
      "Proportion of trees that fit the normal distribution (over transformed data): 0.08021\n"
     ]
    }
   ],
   "source": [
    "dataset_titanic, mse_titanic, predictions_titanic, tree_predictions_titanic = process_dataset(dataset_filepath, pred_col_name)\n",
    "\n",
    "ks_lognormal_fit_proportion, ks_stats = lognormal_KS_fit_check(tree_predictions_titanic, alpha=alpha)\n",
    "print(f\"Proportion of trees that fit the lognormal distribution: {ks_lognormal_fit_proportion:.5f}\")\n",
    "\n",
    "sw_fit_proportion = transforme_normal_SW_fit_check(tree_predictions_titanic, alpha=alpha)\n",
    "print(f\"Proportion of trees that fit the normal distribution (over transformed data): {sw_fit_proportion:.5f}\")"
   ]
  },
  {
   "cell_type": "code",
   "execution_count": 89,
   "metadata": {},
   "outputs": [],
   "source": [
    "dataset_name = os.path.basename(dataset_filepath)\n",
    "file_path = 'datasets_results.csv'\n",
    "\n",
    "# Check if the file exists\n",
    "if os.path.exists(file_path):\n",
    "    # Open the file\n",
    "    df = pd.read_csv(file_path)\n",
    "else:\n",
    "    # Create a new dataframe with column headers\n",
    "    df = pd.DataFrame(columns=['dataset_name', 'prop_lognormal', 'prop_normal', 'alpha'])\n",
    "\n",
    "# Add a new row with values\n",
    "new_row = {'dataset_name': dataset_name, 'prop_lognormal': ks_lognormal_fit_proportion, 'prop_normal': sw_fit_proportion, 'alpha': alpha}\n",
    "df = df.append(new_row, ignore_index=True)\n",
    "\n",
    "# Save the dataframe to the file\n",
    "df.to_csv(file_path, index=False)"
   ]
  }
 ],
 "metadata": {
  "kernelspec": {
   "display_name": "td6",
   "language": "python",
   "name": "python3"
  },
  "language_info": {
   "codemirror_mode": {
    "name": "ipython",
    "version": 3
   },
   "file_extension": ".py",
   "mimetype": "text/x-python",
   "name": "python",
   "nbconvert_exporter": "python",
   "pygments_lexer": "ipython3",
   "version": "3.8.17"
  }
 },
 "nbformat": 4,
 "nbformat_minor": 2
}
