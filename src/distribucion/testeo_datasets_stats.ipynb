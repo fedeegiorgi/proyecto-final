{
 "cells": [
  {
   "cell_type": "code",
   "execution_count": 9,
   "metadata": {},
   "outputs": [],
   "source": [
    "import numpy as np\n",
    "import pandas as pd\n",
    "import seaborn as sns\n",
    "import matplotlib.pyplot as plt\n",
    "from matplotlib.cm import get_cmap\n",
    "from sklearn.preprocessing import StandardScaler\n",
    "from sklearn.ensemble import RandomForestRegressor\n",
    "from sklearn.model_selection import train_test_split\n",
    "from sklearn.metrics import mean_squared_error\n",
    "from scipy.io import arff\n",
    "import os\n",
    "import scipy.stats as stats\n",
    "from scipy.stats import lognorm\n",
    "from scipy.stats import norm\n",
    "from joblib import Parallel, delayed\n",
    "from tqdm import tqdm\n",
    "\n",
    "SEED = 14208"
   ]
  },
  {
   "cell_type": "code",
   "execution_count": 10,
   "metadata": {},
   "outputs": [],
   "source": [
    "import warnings\n",
    "warnings.filterwarnings(\"ignore\")"
   ]
  },
  {
   "cell_type": "code",
   "execution_count": 11,
   "metadata": {},
   "outputs": [],
   "source": [
    "def process_dataset(dataset_filepath: str, pred_col_name: str):\n",
    "    # Obtener la extension del archivo\n",
    "    _, file_extension = os.path.splitext(dataset_filepath)\n",
    "\n",
    "    # Cargar el dataset según la extensión\n",
    "    if file_extension == '.arff':\n",
    "        data = arff.loadarff(dataset_filepath)\n",
    "        df = pd.DataFrame(data[0])\n",
    "\n",
    "    elif file_extension == '.csv':\n",
    "        df = pd.read_csv(dataset_filepath)\n",
    "\n",
    "    else:\n",
    "        raise ValueError(\"Formato no soportado, `dataset_filepath` debe tener una de las siguientes extensiones: .csv, .arff\")\n",
    "\n",
    "    # Separar el dataset en Train y Validation\n",
    "    train_df, validation_df = train_test_split(df, test_size=0.2, random_state=SEED)\n",
    "    y_train, y_valid = train_df[pred_col_name], validation_df[pred_col_name]\n",
    "    X_train, X_valid = train_df.drop(pred_col_name, axis=1), validation_df.drop(pred_col_name, axis=1)\n",
    "\n",
    "    # Aplicar get_dummies para variables categóricas\n",
    "    X_train = pd.get_dummies(X_train)\n",
    "    X_valid = pd.get_dummies(X_valid)\n",
    "    X_train, X_valid = X_train.align(X_valid, join='left', axis=1, fill_value=0) \n",
    "\n",
    "    # Crear y entrenar el modelo de Random Forest\n",
    "    rf_model = RandomForestRegressor(random_state=SEED)\n",
    "    rf_model.fit(X_train, y_train)\n",
    "\n",
    "    # Obtener las predicciones de cada árbol en el bosque\n",
    "    tree_predictions = []\n",
    "    for tree in rf_model.estimators_:\n",
    "        tree_pred = tree.predict(X_valid)\n",
    "        tree_predictions.append(tree_pred)\n",
    "\n",
    "    tree_predictions = np.array(tree_predictions).T\n",
    "\n",
    "    # Evaluar el modelo\n",
    "    predictions = rf_model.predict(X_valid)\n",
    "    mse = mean_squared_error(y_valid, predictions)\n",
    "\n",
    "    return df, mse, predictions, tree_predictions"
   ]
  },
  {
   "cell_type": "code",
   "execution_count": 12,
   "metadata": {},
   "outputs": [],
   "source": [
    "def lognormal_KS_fit_check(tree_predictions, shift=1e-6, alpha=0.05):\n",
    "    ks_results = []\n",
    "    tree_predictions += shift\n",
    "    for predictions in tree_predictions:\n",
    "        # Estimate parameters of the lognormal distribution\n",
    "        shape, loc, scale = stats.lognorm.fit(predictions, floc=0)\n",
    "        \n",
    "        # Perform the Kolmogorov-Smirnov test\n",
    "        ks_stat, p_value = stats.kstest(predictions, 'lognorm', args=(shape, loc, scale))\n",
    "        ks_results.append((ks_stat, p_value, shape, loc, scale))\n",
    "\n",
    "    # Proportion of trees that fit the lognormal distribution\n",
    "    ks_stats = [result[0] for result in ks_results]\n",
    "    eps = 0.05 * 0.9833\n",
    "    filtered_stats = [stat for stat in ks_stats if 0.07554-eps <= stat <= 0.07554+eps]\n",
    "    ks_fit_proportion = len(filtered_stats) / len(ks_stats)\n",
    "    \n",
    "    return ks_fit_proportion"
   ]
  },
  {
   "cell_type": "code",
   "execution_count": 13,
   "metadata": {},
   "outputs": [],
   "source": [
    "def transforme_normal_SW_fit_check(tree_predictions, shift=1e-6, alpha=0.05):\n",
    "    sw_results = []\n",
    "    tree_predictions = np.log1p(tree_predictions)\n",
    "\n",
    "    for predictions in tree_predictions:\n",
    "        # Perform the Shapiro-Wilk test\n",
    "        shapiro_stat, shapiro_p_value = stats.shapiro(predictions)\n",
    "        sw_results.append((shapiro_stat, shapiro_p_value))\n",
    "\n",
    "    # Proportion of trees that fit the normal distribution\n",
    "    sw_stats = [result[0] for result in sw_results]\n",
    "    eps = 0.05 * 0.9833\n",
    "    filtered_stats = [stat for stat in sw_stats if 0.9833-eps <= stat <= 0.9833+eps]\n",
    "    sw_fit_proportion = len(filtered_stats) / len(sw_stats)\n",
    "    \n",
    "    return sw_fit_proportion"
   ]
  },
  {
   "cell_type": "code",
   "execution_count": 14,
   "metadata": {},
   "outputs": [
    {
     "name": "stdout",
     "output_type": "stream",
     "text": [
      "Proportion of trees that fit the lognormal distribution: 0.20992\n",
      "Proportion of trees that fit the normal distribution: 0.20611\n"
     ]
    }
   ],
   "source": [
    "dataset_filepath = 'datasets/titanic_fare_test.arff'  # Aquí se incluirían las rutas a los datasets\n",
    "pred_col_name = 'Fare'  # Columna a predecir\n",
    "dataset_titanic, mse_titanic, predictions_titanic, tree_predictions_titanic = process_dataset(dataset_filepath, pred_col_name)\n",
    "\n",
    "ks_fit_proportion = lognormal_KS_fit_check(tree_predictions_titanic)\n",
    "print(f\"Proportion of trees that fit the lognormal distribution: {ks_fit_proportion:.5f}\")\n",
    "\n",
    "sw_fit_proportion = transforme_normal_SW_fit_check(tree_predictions_titanic)\n",
    "print(f\"Proportion of trees that fit the normal distribution: {sw_fit_proportion:.5f}\")"
   ]
  }
 ],
 "metadata": {
  "kernelspec": {
   "display_name": "td6",
   "language": "python",
   "name": "python3"
  },
  "language_info": {
   "codemirror_mode": {
    "name": "ipython",
    "version": 3
   },
   "file_extension": ".py",
   "mimetype": "text/x-python",
   "name": "python",
   "nbconvert_exporter": "python",
   "pygments_lexer": "ipython3",
   "version": "3.8.17"
  }
 },
 "nbformat": 4,
 "nbformat_minor": 2
}
