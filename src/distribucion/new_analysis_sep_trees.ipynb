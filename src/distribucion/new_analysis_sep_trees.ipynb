{
 "cells": [
  {
   "cell_type": "code",
   "execution_count": 1,
   "metadata": {},
   "outputs": [],
   "source": [
    "import numpy as np\n",
    "import pandas as pd\n",
    "import seaborn as sns\n",
    "import matplotlib.pyplot as plt\n",
    "from matplotlib.cm import get_cmap\n",
    "from sklearn.preprocessing import StandardScaler\n",
    "from sklearn.ensemble import RandomForestRegressor\n",
    "from sklearn.model_selection import train_test_split\n",
    "from sklearn.metrics import mean_squared_error\n",
    "from scipy.io import arff\n",
    "import os\n",
    "import scipy.stats as stats\n",
    "from scipy.stats import lognorm\n",
    "from scipy.stats import norm\n",
    "\n",
    "SEED = 21415"
   ]
  },
  {
   "cell_type": "code",
   "execution_count": 2,
   "metadata": {},
   "outputs": [],
   "source": [
    "import warnings\n",
    "warnings.filterwarnings(\"ignore\")"
   ]
  },
  {
   "cell_type": "code",
   "execution_count": 3,
   "metadata": {},
   "outputs": [],
   "source": [
    "def process_dataset(dataset_filepath: str, pred_col_name: str):\n",
    "    # Obtener la extension del archivo\n",
    "    _, file_extension = os.path.splitext(dataset_filepath)\n",
    "\n",
    "    # Cargar el dataset según la extensión\n",
    "    if file_extension == '.arff':\n",
    "        data = arff.loadarff(dataset_filepath)\n",
    "        df = pd.DataFrame(data[0])\n",
    "\n",
    "    elif file_extension == '.csv':\n",
    "        df = pd.read_csv(dataset_filepath)\n",
    "\n",
    "    else:\n",
    "        raise ValueError(\"Formato no soportado, `dataset_filepath` debe tener una de las siguientes extensiones: .csv, .arff\")\n",
    "\n",
    "    # Separar el dataset en Train y Validation\n",
    "    train_df, validation_df = train_test_split(df, test_size=0.2, random_state=SEED)\n",
    "    y_train, y_valid = train_df[pred_col_name], validation_df[pred_col_name]\n",
    "    X_train, X_valid = train_df.drop(pred_col_name, axis=1), validation_df.drop(pred_col_name, axis=1)\n",
    "\n",
    "    # Aplicar get_dummies para variables categóricas\n",
    "    X_train = pd.get_dummies(X_train)\n",
    "    X_valid = pd.get_dummies(X_valid)\n",
    "    X_train, X_valid = X_train.align(X_valid, join='left', axis=1, fill_value=0) \n",
    "\n",
    "    # Crear y entrenar el modelo de Random Forest\n",
    "    rf_model = RandomForestRegressor(random_state=SEED)\n",
    "    rf_model.fit(X_train, y_train)\n",
    "\n",
    "    # Obtener las predicciones de cada árbol en el bosque\n",
    "    tree_predictions = []\n",
    "    for tree in rf_model.estimators_:\n",
    "        tree_pred = tree.predict(X_valid)\n",
    "        tree_predictions.append(tree_pred)\n",
    "\n",
    "    tree_predictions = np.array(tree_predictions).T\n",
    "\n",
    "    # Evaluar el modelo\n",
    "    predictions = rf_model.predict(X_valid)\n",
    "    mse = mean_squared_error(y_valid, predictions)\n",
    "\n",
    "    return df, mse, predictions, tree_predictions"
   ]
  },
  {
   "cell_type": "code",
   "execution_count": 22,
   "metadata": {},
   "outputs": [],
   "source": [
    "def lognormal_fit_check(tree_predictions, shift=1e-6):\n",
    "    ks_results = []\n",
    "    tree_predictions += shift\n",
    "    for predictions in tree_predictions:\n",
    "        # Estimate parameters of the lognormal distribution\n",
    "        shape, loc, scale = stats.lognorm.fit(predictions, floc=0)\n",
    "        \n",
    "        # Perform the Kolmogorov-Smirnov test\n",
    "        ks_stat, p_value = stats.kstest(predictions, 'lognorm', args=(shape, loc, scale))\n",
    "        ks_results.append((ks_stat, p_value, shape, loc, scale))\n",
    "    \n",
    "    return ks_results\n",
    "\n",
    "def print_ks_res(tree_predictions):\n",
    "    ks_results = lognormal_fit_check(tree_predictions)\n",
    "    avg_ks, avg_pvalue = 0, 0\n",
    "\n",
    "    for i, (ks_stat, p_value, shape, loc, scale) in enumerate(ks_results):\n",
    "        avg_ks += ks_stat\n",
    "        avg_pvalue += p_value\n",
    "\n",
    "    print(f\"AVG KS: {avg_ks / len(ks_results)} | AVG p-value: {avg_pvalue / len(ks_results)}\")\n",
    "\n",
    "def plot_log_normal_fit(predictions, dataset_name, save=False, shift=1e-6, given_index=0):\n",
    "    predictions += shift\n",
    "\n",
    "    plt.figure(figsize=(10, 6))\n",
    "\n",
    "    cmap = get_cmap('tab10')\n",
    "\n",
    "    prediction = predictions[given_index]\n",
    "\n",
    "    sns.kdeplot(prediction, color=cmap(given_index % cmap.N))\n",
    "    shape, loc, scale = lognorm.fit(prediction, floc=0)\n",
    "    x = np.linspace(min(prediction), max(prediction), 1000)\n",
    "    pdf_fitted = lognorm.pdf(x, shape, loc, scale)\n",
    "\n",
    "    plt.plot(x, pdf_fitted, 'b-', lw=2, label='Fitted Log-Normal')\n",
    "\n",
    "    plt.title(f\"Distribucion de las predicciones | Instancia {given_index} [Validation Set]\")\n",
    "\n",
    "    if save:\n",
    "        plt.savefig(f'graficos/{dataset_name}_distribution_log.png', format='png', dpi=300, bbox_inches='tight')"
   ]
  },
  {
   "cell_type": "code",
   "execution_count": 19,
   "metadata": {},
   "outputs": [],
   "source": [
    "dataset_filepath = 'titanic_fare_test.arff'  # Aquí se incluirían las rutas a los datasets\n",
    "pred_col_name = 'Fare'  # Columna a predecir\n",
    "dataset_titanic, mse_titanic, predictions_titanic, tree_predictions_titanic = process_dataset(dataset_filepath, pred_col_name)"
   ]
  },
  {
   "cell_type": "code",
   "execution_count": 20,
   "metadata": {},
   "outputs": [
    {
     "name": "stdout",
     "output_type": "stream",
     "text": [
      "AVG KS: 0.2752746977608068 | AVG p-value: 0.15117657085914157\n"
     ]
    }
   ],
   "source": [
    "print_ks_res(tree_predictions_titanic)"
   ]
  },
  {
   "cell_type": "code",
   "execution_count": null,
   "metadata": {},
   "outputs": [],
   "source": [
    "for i in range(262):\n",
    "    plot_log_normal_fit(tree_predictions_titanic, 'Titanic', save=False, shift=1e-6, given_index=i)"
   ]
  },
  {
   "cell_type": "code",
   "execution_count": 24,
   "metadata": {},
   "outputs": [],
   "source": [
    "import imageio\n",
    "\n",
    "# Ensure the output directory exists\n",
    "output_dir = 'gif_frames'\n",
    "os.makedirs(output_dir, exist_ok=True)\n",
    "\n",
    "# Save each plot as an image\n",
    "for i in range(262):\n",
    "    filename = os.path.join(output_dir, f'frame_{i}.png')\n",
    "    plot_log_normal_fit(tree_predictions_titanic, 'Titanic', save=True, shift=1e-6, given_index=i)\n",
    "    plt.savefig(filename)\n",
    "    plt.close()  # Close the plot to free up memory\n",
    "\n",
    "# Create a GIF from the saved images\n",
    "with imageio.get_writer('lognormal_fits.gif', mode='I', duration=2) as writer:\n",
    "    for i in range(262):\n",
    "        filename = os.path.join(output_dir, f'frame_{i}.png')\n",
    "        image = imageio.imread(filename)\n",
    "        writer.append_data(image)\n",
    "\n",
    "# Clean up the images (remove files)\n",
    "# import shutil\n",
    "# shutil.rmtree(output_dir)"
   ]
  }
 ],
 "metadata": {
  "kernelspec": {
   "display_name": "pf-sklearn-dev",
   "language": "python",
   "name": "python3"
  },
  "language_info": {
   "codemirror_mode": {
    "name": "ipython",
    "version": 3
   },
   "file_extension": ".py",
   "mimetype": "text/x-python",
   "name": "python",
   "nbconvert_exporter": "python",
   "pygments_lexer": "ipython3",
   "version": "3.11.7"
  }
 },
 "nbformat": 4,
 "nbformat_minor": 2
}
