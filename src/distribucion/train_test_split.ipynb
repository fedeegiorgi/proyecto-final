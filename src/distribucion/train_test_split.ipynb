{
 "cells": [
  {
   "cell_type": "code",
   "execution_count": 1,
   "metadata": {},
   "outputs": [],
   "source": [
    "import pandas as pd\n",
    "from scipy.io import arff\n",
    "import os"
   ]
  },
  {
   "cell_type": "code",
   "execution_count": 2,
   "metadata": {},
   "outputs": [],
   "source": [
    "file_path = 'distribucion/datasets/wind_dataset_transformed.csv'\n",
    "\n",
    "# Check the file extension and load data accordingly\n",
    "if file_path.endswith('.csv'):\n",
    "    data = pd.read_csv(file_path)\n",
    "elif file_path.endswith('.arff'):\n",
    "    data, meta = arff.loadarff(file_path)\n",
    "    data = pd.DataFrame(data)\n",
    "else:\n",
    "    raise ValueError(\"Unsupported file format. Please provide a .csv or .arff file.\")\n"
   ]
  },
  {
   "cell_type": "code",
   "execution_count": 3,
   "metadata": {},
   "outputs": [],
   "source": [
    "# Define the proportion for the training set\n",
    "train_size = int(0.7* len(data))\n",
    "\n",
    "# Split the data\n",
    "train_data = data.iloc[:train_size]\n",
    "test_data = data.iloc[train_size:]"
   ]
  },
  {
   "cell_type": "code",
   "execution_count": 4,
   "metadata": {},
   "outputs": [],
   "source": [
    "output_path_train = 'distribucion/datasets/train_data/wind_train.csv'\n",
    "train_data.to_csv(output_path_train, index=False)"
   ]
  },
  {
   "cell_type": "code",
   "execution_count": 5,
   "metadata": {},
   "outputs": [],
   "source": [
    "output_path_test = 'distribucion/datasets/test_data/wind_test.csv'\n",
    "test_data.to_csv(output_path_test, index=False)"
   ]
  }
 ],
 "metadata": {
  "kernelspec": {
   "display_name": "td6",
   "language": "python",
   "name": "python3"
  },
  "language_info": {
   "codemirror_mode": {
    "name": "ipython",
    "version": 3
   },
   "file_extension": ".py",
   "mimetype": "text/x-python",
   "name": "python",
   "nbconvert_exporter": "python",
   "pygments_lexer": "ipython3",
   "version": "3.10.12"
  }
 },
 "nbformat": 4,
 "nbformat_minor": 2
}
