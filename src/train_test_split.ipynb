{
 "cells": [
  {
   "cell_type": "code",
   "execution_count": 35,
   "metadata": {},
   "outputs": [],
   "source": [
    "import pandas as pd\n",
    "from scipy.io import arff\n",
    "import os"
   ]
  },
  {
   "cell_type": "code",
   "execution_count": 36,
   "metadata": {},
   "outputs": [],
   "source": [
    "file_path = 'distribucion/datasets/house_8L.arff'\n",
    "\n",
    "# Check the file extension and load data accordingly\n",
    "if file_path.endswith('.csv'):\n",
    "    data = pd.read_csv(file_path)\n",
    "elif file_path.endswith('.arff'):\n",
    "    data, meta = arff.loadarff(file_path)\n",
    "    data = pd.DataFrame(data)\n",
    "else:\n",
    "    raise ValueError(\"Unsupported file format. Please provide a .csv or .arff file.\")\n"
   ]
  },
  {
   "cell_type": "code",
   "execution_count": 37,
   "metadata": {},
   "outputs": [],
   "source": [
    "# Define the proportion for the training set\n",
    "train_size = int(0.8 * len(data))\n",
    "\n",
    "# Split the data\n",
    "train_data = data.iloc[:train_size]\n",
    "test_data = data.iloc[train_size:]"
   ]
  },
  {
   "cell_type": "code",
   "execution_count": 38,
   "metadata": {},
   "outputs": [],
   "source": [
    "output_path_train = 'distribucion/datasets/train_data/house_8L_train.csv'\n",
    "train_data.to_csv(output_path_train, index=False)"
   ]
  },
  {
   "cell_type": "code",
   "execution_count": null,
   "metadata": {},
   "outputs": [],
   "source": [
    "output_path_test = 'distribucion/datasets/test_data/house_8L_test.csv'\n",
    "test_data.to_csv(output_path_test, index=False)"
   ]
  }
 ],
 "metadata": {
  "kernelspec": {
   "display_name": "td6",
   "language": "python",
   "name": "python3"
  },
  "language_info": {
   "codemirror_mode": {
    "name": "ipython",
    "version": 3
   },
   "file_extension": ".py",
   "mimetype": "text/x-python",
   "name": "python",
   "nbconvert_exporter": "python",
   "pygments_lexer": "ipython3",
   "version": "3.10.12"
  }
 },
 "nbformat": 4,
 "nbformat_minor": 2
}
